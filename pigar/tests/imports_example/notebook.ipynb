{
  "cells": [
    {
      "cell_type": "code",
      "execution_count": 1,
      "metadata": {},
      "outputs": [
        {
          "name": "stdout",
          "output_type": "stream",
          "text": [
            "'Hello'\n"
          ]
        }
      ],
      "source": [
        "import pprint\n",
        "pprint.pprint(\"Hello\")"
      ]
    },
    {
      "cell_type": "markdown",
      "metadata": {},
      "source": [
        "### Markdown title"
      ]
    },
    {
      "cell_type": "code",
      "execution_count": 2,
      "metadata": {},
      "outputs": [
        {
          "name": "stdout",
          "output_type": "stream",
          "text": [
            "<class 'requests.exceptions.HTTPError'>\n"
          ]
        }
      ],
      "source": [
        "import notebook # !echo bad\n",
        "!git status\n",
        " %cd /tmp\n",
        "print(dir(notebook))"
      ]
    },
    {
      "cell_type": "code",
      "execution_count": null,
      "metadata": {},
      "outputs": [],
      "source": []
    },
    {
      "cell_type": "code",
      "metadata": {},
      "outputs": [],
      "source": [
        "lines = !ls -l\n",
        "!echo hello\n",
        "%alias bracket echo \"knock knock\"\n",
        "%who_ls\n",
        "!{sys.executable} -m pip install --upgrade setuptools\n"
      ]
    }
  ],
  "metadata": {
    "kernelspec": {
      "display_name": "Python 3",
      "language": "python",
      "name": "python3"
    },
    "language_info": {
      "codemirror_mode": {
        "name": "ipython",
        "version": 3
      },
      "file_extension": ".py",
      "mimetype": "text/x-python",
      "name": "python",
      "nbconvert_exporter": "python",
      "pygments_lexer": "ipython3",
      "version": "3.7.4"
    }
  },
  "nbformat": 4,
  "nbformat_minor": 2
}
